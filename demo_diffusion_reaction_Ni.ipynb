{
 "cells": [
  {
   "cell_type": "markdown",
   "metadata": {},
   "source": [
    "<big>**①Model Description**</big>\n",
    "\n",
    "We have a $\\mathrm{Ni} - \\mathrm{SiC}$ pair,the metal interacts only with silicon forming silicides.(金属仅仅与硅相互作用形成硅化物。) \n",
    "\n",
    "This chemical interaction is the principal cause, which damages the rigid silicon-carbide lattice.(这种化学相互作用是破坏刚性碳化硅晶格的主要原因。)\n",
    "\n",
    "The reaction of the metal-monosilicide formation by an example of $\\mathrm{Ni}$ has the form：\n",
    "\n",
    "$$\\mathrm{Ni}+\\mathrm{SiC}\\longrightarrow\\mathrm{NiSi}+\\mathrm{C}\\mathrm{~or~A}+\\mathrm{BC}\\xrightarrow{k_{11}}\\mathrm{AB}+\\mathrm{C}~~~~~~(1)$$\n",
    "\n",
    " At relatively low annealing temperatures $(T = 600–950°C)$,the metal enriched silicide $(Ni2Si)$ is formed:\n",
    "$$\\mathrm N\\mathrm i+\\mathrm N\\mathrm i\\mathrm S\\mathrm i\\longrightarrow\\mathrm N\\mathrm i_2\\mathrm S\\mathrm i\\:\\mathrm o\\mathrm r\\:\\mathrm A+\\mathrm A\\mathrm B\\xrightarrow{k_{21}}\\mathrm A_2\\mathrm B.~~~~~~(2)$$\n",
    "\n",
    " At higher temperatures $(T = 950–1100°C)$,  and under proton irradiation it is nickel disilicide with liberation of carbon that is formed alongside with monosilicide in the reaction:\n",
    "$$\\mathrm{NiSi}+\\mathrm{SiC}\\longrightarrow\\mathrm{NiSi}_{2}+\\mathrm{C}\\mathrm{~or~AB}+\\mathrm{AC}\\xrightarrow{k_{12}}\\mathrm{A}_{2}\\mathrm{B}+\\mathrm{C}.$$\n"
   ]
  },
  {
   "cell_type": "markdown",
   "metadata": {},
   "source": [
    "Here, $k_{11}$, $k_{21}$, and $k_{12}$ are the rate constants for reactions (1), (2), and (3)  respectively.\n",
    "\n",
    "All these reactions proceed in the $\\mathrm{SiC}$ bulk as a result of the diffusion penetration(渗透) of $\\mathrm{Ni}$ into $\\mathrm{SiC}$. The metal atoms and, probably, released $C$ atoms are the mobile components in reactions (1)–(3). \n",
    "\n",
    "For the relation $D_{A} \\gg D_{C}$ between the diffusivities(扩散率/扩散系数)，wehave a displacement of the interphase boundary to the surface due to the Kirkendall effect.\n",
    "\n",
    "We assume that the diffusion mixing of $\\mathrm{Ni}$, $\\mathrm{Si}$ (in the $\\mathrm{SiC}$ composition), and reduced $\\mathrm{C}$ also can be described in the metal–$\\mathrm{SiC}$ system by the effective heterodiffusion coefficient $\\mathrm{D^*}$."
   ]
  },
  {
   "cell_type": "markdown",
   "metadata": {},
   "source": [
    "<big>**②Problem setup**</big>\n",
    "\n",
    "The diffusion–reaction equations for the components of reactions (1) - (4)  in the metal–$\\mathrm{SiC}$ system has the form:\n",
    "\n",
    "$$\\frac{\\partial C_\\mathrm{A}}{\\partial t}\\:=\\:\\frac{\\partial}{\\partial x}\\biggl(D^*\\frac{\\partial C_\\mathrm{A}}{\\partial x}\\biggr)-k_{11}C_\\mathrm{A}C_\\mathrm{BC}-k_{21}C_\\mathrm{A}C_\\mathrm{AB}~~~~~~(4)$$\n",
    "\n",
    "$$\\frac{\\partial C_{\\mathrm{BC}}}{\\partial t}\\:=\\:\\frac{\\partial}{\\partial x}\\biggl(D^*\\frac{\\partial C_{\\mathrm{BC}}}{\\partial x}\\biggr)-k_{11}C_{\\mathrm{A}}C_{\\mathrm{BC}}-k_{12}C_{\\mathrm{AB}}C_{\\mathrm{BC}}~~~~~~(5)$$\n",
    "\n",
    "$$\\frac{\\partial C_{\\mathrm{C}}}{\\partial t}\\:=\\:\\frac{\\partial}{\\partial x}\\biggl(D^{*}\\frac{\\partial C_{\\mathrm{C}}}{\\partial x}\\biggr)+k_{11}C_{\\mathrm{A}}C_{\\mathrm{BC}}+k_{12}C_{\\mathrm{BC}}C_{\\mathrm{AB}}~~~~~~(6)$$\n",
    "\n",
    "$$\\frac{\\partial C_{\\mathrm{AB}}}{\\partial t}\\:=\\:k_{11}C_{\\mathrm{A}}C_{\\mathrm{BC}}-k_{21}C_{\\mathrm{A}}C_{\\mathrm{AB}}~~~~~~(7)$$\n",
    "\n",
    "$$\\frac{\\partial C_{\\mathrm{ABB}}}{\\partial t}\\:=\\:k_{12}C_{\\mathrm{BC}}C_{\\mathrm{AB}}~~~~~~(8)$$\n",
    "\n",
    "$$\\frac{\\partial C_{\\mathrm{AAB}}}{\\partial t}\\:=\\:k_{21}C_{\\mathrm{A}}C_{\\mathrm{AB}}~~~~~~~(9)$$\n",
    "\n",
    "where $t$ is the time; $x$ is the depth (time dependent PDEs) ; \n",
    "\n",
    "$C_{?}$ are the concentrations of different components.\n",
    "\n",
    "The effective heterodiffusion coefficient has the following form in our case:\n",
    "$$D^{*}\\:=\\:\\frac{D_{\\mathrm{A}}(C_{\\mathrm{BC}}+C_{\\mathrm{C}}+C_{\\mathrm{AB}}+C_{\\mathrm{ABB}}+C_{\\mathrm{AAB}})+D_{\\mathrm{C}}C_{\\mathrm{A}}}{C_{\\Sigma}}~~~~~~(10)$$\n",
    "\n",
    "Here $C_{\\Sigma}$ is the total concentration of all components.\n",
    "\n",
    "It was shown that $\\mathrm{Ni}$  is the dominant mobile component, while carbon released in the interaction of $\\mathrm{Ni}$ with $\\mathrm{SiC}$. Therefore, we set $D_C = 0 $ in Eq(10).\n",
    "\n",
    "(反应中主要的移动成分是镍，而碳在镍和碳化硅的反应中被释放，因此我们设置碳在等式10的扩散系数为0)\n",
    "\n",
    "The metal diffusivity in various phases is   different; we assume that it linearly depends on composition:\n",
    "\n",
    "(各相金属扩散系数不同；我们假设它线性取决于成分：)\n",
    "\n",
    "$$D_A=\\frac{D_{\\mathrm{AA}}C_{\\mathrm{A}}+D_{\\mathrm{AB}}C_{\\mathrm{AB}}+D_{\\mathrm{ABB}}C_{\\mathrm{ABB}}+D_{\\mathrm{AAB}}C_{\\mathrm{AAB}}+D_{\\mathrm{BC}}C_{\\mathrm{BC}}}{C_{\\mathrm{A}}+C_{\\mathrm{AB}}+C_{\\mathrm{ABB}}+C_{\\mathrm{AAB}}+C_{\\mathrm{BC}}}\\:~~~~~~(11)$$\n",
    "\n",
    "$D_?$ are the partial diffusivities of metal in the different phases(相)."
   ]
  },
  {
   "cell_type": "markdown",
   "metadata": {},
   "source": [
    "The absence of diffusion terms in Eqs(7) - (9)  is caused by the fact that the plastic flow of material of silicides to the external surface due to the nickel atom flux is compensated in the steady state mode by the growth of silicidephase flow in an opposite direction (the Kirkendall effect).\n",
    "\n",
    "(在等式(7)-(9)中扩散项消失，这是由于在稳态模式下，硅化物材料因镍原子通量而向外表面产生的塑性流动被硅化物相向反方向流动的增长所补偿（柯肯达尔效应）。)"
   ]
  },
  {
   "cell_type": "markdown",
   "metadata": {},
   "source": [
    "<big>**③Conditions**</big>\n",
    "\n",
    "$$C_{\\mathrm{A}}(x,0)=N_{\\mathrm{SA}}\\:\\mathrm{for}\\:0\\leq x\\leq h~~~~~~(12)$$\n",
    "\n",
    "$$C_{\\mathrm{B}}(x,0)=N_{\\mathrm{SB}}\\:\\mathrm{for}\\:h\\leq x\\leq L~~~~~~(13)$$\n",
    "\n",
    "$$C_{\\mathrm{AB}}(x,0)=C_{\\mathrm{ABB}}(x,0)=C_{\\mathrm{AAB}}(x,0) =\\:C_{\\mathrm{C}}(x,0)\\:=\\:0\\:\\mathrm{for\\:all}\\:0\\leq x\\leq L~~~~~~(14)$$\n",
    "\n",
    "where $h$ is the metal film thickness, $\\mathrm{L}$ is the $\\mathrm{SiC}$ substrate thickness (the solutionregion depth)\n",
    "\n",
    "$\\mathrm{N_{SA}}$  is the intrinsic metal-atom concentration ($9 × 10^{22} \\mathrm{cm}^{-3}$)\n",
    "\n",
    "$\\mathrm{N_{SB}}$  is the intrinsic silicon-atom concentration ($4.8 × 10^{22} \\mathrm{cm}^{-3}$ for $\\mathrm{SiC}$)\n",
    "\n",
    "The boundary conditions correspond to the reflecting boundaries:\n",
    "\n",
    "$$\\frac{\\partial C_\\mathrm{A}}{\\partial x}\\:=\\:\\frac{\\partial C_\\mathrm{BC}}{\\partial x}\\:=\\:\\frac{\\partial C_\\mathrm{C}}{\\partial x}\\:=\\:0 \\mathrm{for}\\quad x\\:=\\:0\\:\\mathrm{and}\\:x\\:=\\:L~~~~~~(15)$$\n",
    "\n",
    "Clearly this is a <u>**Neumann boundary condition**</u>, which is different from the Dirichlet boundary condition we used before.\n",
    "\n"
   ]
  },
  {
   "cell_type": "markdown",
   "metadata": {},
   "source": [
    "<big>**④Reconstruct the system of partial differential equations**</big>\n",
    "\n",
    "$D^*$ is the function of concentration w.r.t $x$. Its derivative terms need to be considered. This processing ensures the correctness of the equation system and reflects the influence of concentration gradient and diffusion coefficient changes on substance migration.\n",
    "\n",
    "#To be refresh"
   ]
  },
  {
   "cell_type": "markdown",
   "metadata": {},
   "source": [
    "<big>**⑤Different Conditinons**</big>\n",
    "\n",
    "For situation 1:\n",
    "\n",
    "In the metal–substrate diffusion pair with mobile metal atoms, the metal diffuses from the deposited film into the $\\mathrm{SiC}$ substrate. As a result of the counter flow of vacancies and their subsequent annihilation at drains, there is the diffusion mixing of two materials.\n",
    "\n",
    "在具有移动金属原子的金属-衬底扩散对中，金属从沉积薄膜扩散到 SiC 衬底中。由于空位的逆流及其随后在排水管处的湮灭，两种材料发生扩散混合。\n",
    "\n",
    "Here $k_{11}$, $k_{21}$ and $k_{12}$ are $0$. The caculation for $D_{A} = 6 \\times 10^{-14} \\mathrm{cm}^{2}/\\mathrm{s}$.\n",
    "\n",
    "#To be refresh"
   ]
  },
  {
   "cell_type": "markdown",
   "metadata": {},
   "source": [
    "<big>**Implementation**</big>\n",
    "\n",
    "This description goes through the implementation of a solver for the above described diffusion equation step-by-step"
   ]
  },
  {
   "cell_type": "code",
   "execution_count": 21,
   "metadata": {},
   "outputs": [
    {
     "name": "stdout",
     "output_type": "stream",
     "text": [
      "6e-14\n"
     ]
    }
   ],
   "source": [
    "import deepxde as dde\n",
    "import numpy as np\n",
    "import torch\n",
    "\n",
    "#changeable parameters\n",
    "D_A = 6e-14\n",
    "kf_11 = 0\n",
    "kf_21 = 0\n",
    "kf_12 = 0"
   ]
  },
  {
   "cell_type": "markdown",
   "metadata": {},
   "source": [
    "Next, we express the PDE residual of the diffusion-reaction equation:\n",
    "\n",
    "The first argument to pde is the 2 dimensional vector where the first component x[:, 0] is the $x$-coordinate; and the second component x[:, 1] is the $t$-coordinate. \n",
    "\n",
    "The second argument is the network output, i.e., the solution $C(x,t)$, but here we use $y$ as the name of the variable."
   ]
  },
  {
   "cell_type": "code",
   "execution_count": null,
   "metadata": {},
   "outputs": [],
   "source": [
    "def pde(x,y): ##第一个x输入的是一个二维向量，第一个指的是x(j=0),第二个指的是t(j=1)。\n",
    "    c_a,c_bc,c_c,c_ab,c_abb,c_aab = y[:, 0:1], y[:, 1:2],y[:, 2:3], y[:, 3:4],y[:, 4:5], y[:, 5:6]  ##6个等式，6个解\n",
    "\n",
    "    #common variables\n",
    "    C_sigma = c_a + c_bc + c_c + c_ab +c_abb + c_aab\n",
    "    C_lambda = c_bc + c_c + c_ab +c_abb + c_aab\n",
    "\n",
    "    D_star = D_A * (C_lambda/\n",
    "                    C_sigma)\n",
    "    \n",
    "    dca_dx = dde.grad.jacobian(y, x, i=0, j=0)  ##Compute Jacobian matrix J as J[i, j] = dy_i / dx_j\n",
    "    dcbc_dx = dde.grad.jacobian(y, x, i=1, j=0)\n",
    "    dcc_dx = dde.grad.jacobian(y, x, i=2, j=0)\n",
    "    dcab_dx = dde.grad.jacobian(y, x, i=3, j=0)\n",
    "    dcabb_dx = dde.grad.jacobian(y, x, i=4, j=0)\n",
    "    dcaab_dx = dde.grad.jacobian(y, x, i=5, j=0)\n",
    "\n",
    "    dsigma_dx = dcbc_dx + dcc_dx + dcab_dx + dcabb_dx + dcaab_dx\n",
    "\n",
    "    \n",
    "    ##eq1:\n",
    "    dca_dt = dde.grad.jacobian(y, x, i=0, j=1)  #t为x的 2-coordinate j=1\n",
    "    dca_dxx = dde.grad.hessian(y, x, component=0, i=0, j=0) \n",
    "            #Compute Hessian matrix H as H[i, j] = d^2y / dx_i dx_j, where i,j = 0, …, dim_x - 1\n",
    "            #Use component to select y_i = 0\n",
    "    eq_1 = dca_dt - D_star * dca_dxx - dca_dx * \\\n",
    "        (D_A * (c_a * dsigma_dx - dca_dx * C_lambda)/ (C_sigma ** 2)) + \\\n",
    "        kf_11 * c_a * c_bc + kf_21 * c_a * c_ab \n",
    "\n",
    "    ##eq2:\n",
    "    dcbc_dt = dde.grad.jacobian(y,x,i=1,j=1)  #t为x的 2-coordinate j=1\n",
    "    dcbc_dxx = dde.grad.hessian(y,x,component=1,i=0,j=0)  ##cbc为y的 2-coordinate component =1\n",
    "    eq_2 = dcbc_dt - D_star * dcbc_dxx - dcbc_dx * \\\n",
    "        (D_A * (c_a * dsigma_dx - dca_dx * C_lambda)/ (C_sigma ** 2)) + \\\n",
    "        kf_11 * c_a * c_bc + kf_12 * c_ab * c_bc \n",
    "    \n",
    "    ##eq3\n",
    "    dcc_dt = dde.grad.jacobian(y,x,i=2,j=1)  #t为x的 2-coordinate j=1\n",
    "    dcc_dxx = dde.grad.hessian(y,x,component=2,i=0,j=0) ##cc为y的 3-coordinate component =2\n",
    "    eq_3 = dcc_dt - D_star * dcc_dxx - dcc_dx * \\\n",
    "        (D_A * (c_a * dsigma_dx - dca_dx * C_lambda)/ (C_sigma ** 2)) - \\\n",
    "        kf_11 * c_a * c_bc - kf_12 * c_ab * c_bc \n",
    "    \n",
    "    ##eq4\n",
    "    dcab_dt = dde.grad.jacobian(y,x,i=3,j=1)\n",
    "    eq_4 = dcab_dt - kf_11 * c_a * c_bc + kf_21 * c_a * c_ab \n",
    "\n",
    "    ##eq5\n",
    "    dcabb_dt = dde.grad.jacobian(y,x,i=4,j=1)\n",
    "    eq_5 = dcabb_dt - kf_12 * c_bc * c_ab\n",
    "    ##eq6\n",
    "    dcaab_dt = dde.grad.jacobian(y,x,i=5,j=1)\n",
    "    eq_6 = dcaab_dt - kf_21 * c_a * c_ab \n",
    "\n",
    "\n",
    "    return [eq_1,eq_2,eq_3,eq_4,eq_5,eq_6]"
   ]
  }
 ],
 "metadata": {
  "kernelspec": {
   "display_name": "pytorch",
   "language": "python",
   "name": "python3"
  },
  "language_info": {
   "codemirror_mode": {
    "name": "ipython",
    "version": 3
   },
   "file_extension": ".py",
   "mimetype": "text/x-python",
   "name": "python",
   "nbconvert_exporter": "python",
   "pygments_lexer": "ipython3",
   "version": "3.9.7"
  }
 },
 "nbformat": 4,
 "nbformat_minor": 2
}
