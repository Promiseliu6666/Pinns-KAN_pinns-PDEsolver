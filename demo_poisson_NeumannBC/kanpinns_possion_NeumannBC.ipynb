{
 "cells": [
  {
   "cell_type": "code",
   "execution_count": 1,
   "metadata": {},
   "outputs": [
    {
     "name": "stdout",
     "output_type": "stream",
     "text": [
      "['d:\\\\conda\\\\envs\\\\pytorch\\\\python39.zip', 'd:\\\\conda\\\\envs\\\\pytorch\\\\DLLs', 'd:\\\\conda\\\\envs\\\\pytorch\\\\lib', 'd:\\\\conda\\\\envs\\\\pytorch', '', 'C:\\\\Users\\\\Administrator\\\\AppData\\\\Roaming\\\\Python\\\\Python39\\\\site-packages', 'd:\\\\conda\\\\envs\\\\pytorch\\\\lib\\\\site-packages', 'd:\\\\conda\\\\envs\\\\pytorch\\\\lib\\\\site-packages\\\\win32', 'd:\\\\conda\\\\envs\\\\pytorch\\\\lib\\\\site-packages\\\\win32\\\\lib', 'd:\\\\conda\\\\envs\\\\pytorch\\\\lib\\\\site-packages\\\\Pythonwin', 'H:/毕业论文/pykan', 'H:/毕业论文/efficient-kan/src']\n"
     ]
    }
   ],
   "source": [
    "import sys\n",
    "sys.path.append('H:/毕业论文/pykan')\n",
    "sys.path.append('H:/毕业论文/efficient-kan/src')\n",
    "from scipy.interpolate import griddata\n",
    "from efficient_kan import KAN as EKAN\n",
    "from kan import KAN, LBFGS\n",
    "from kan import LBFGS\n",
    "import torch\n",
    "torch.set_default_dtype(torch.float64)\n",
    "import torch.nn as nn\n",
    "from torch import autograd\n",
    "from torch.utils.tensorboard import SummaryWriter\n",
    "from tqdm import tqdm\n",
    "import matplotlib.pyplot as plt\n",
    "import numpy as np\n",
    "import torch.optim as optim"
   ]
  },
  {
   "cell_type": "code",
   "execution_count": 2,
   "metadata": {},
   "outputs": [
    {
     "name": "stdout",
     "output_type": "stream",
     "text": [
      "Using device: cuda:0\n"
     ]
    }
   ],
   "source": [
    "device = torch.device(\"cuda:0\" if torch.cuda.is_available() else \"cpu\")\n",
    "print(\"Using device:\", device)\n",
    "\n",
    "#Gradient-Cacl.  梯度批量计算\n",
    "def batch_jacobian(func, x, create_graph=False):\n",
    "    def _func_sum(x):\n",
    "        return func(x).sum(dim=0)\n",
    "    return autograd.functional.jacobian(_func_sum, x, create_graph=create_graph).permute(1, 0, 2)\n",
    "\n",
    "def batch_hessian(func, x):\n",
    "    jacobian = batch_jacobian(func, x, create_graph=True)\n",
    "    hessians = []\n",
    "    for i in range(jacobian.size(1)):\n",
    "        grad = autograd.grad(jacobian[:, i].sum(), x, create_graph=True, retain_graph=True)[0]\n",
    "        hessians.append(grad.unsqueeze(1))\n",
    "    return torch.cat(hessians, dim=1)"
   ]
  },
  {
   "cell_type": "code",
   "execution_count": 3,
   "metadata": {},
   "outputs": [],
   "source": [
    "#geom 物理区域\n",
    "geom = [-1,1]\n",
    "num_points_x = 256  #网格的大小\n",
    "\n",
    "#网格化\n",
    "x = torch.linspace(geom[0], geom[1], \n",
    "                   steps=num_points_x, device=device,\n",
    "                   requires_grad=False)\n",
    "\n",
    "coordinates = torch.stack([x.flatten()], dim = 1).to(device)\n",
    "# print(coordinates,coordinates.shape)\n",
    "coordinates.requires_grad = True  # Ensure coordinates require grad 确保coordinates需要梯度\n",
    "##\n",
    "##这一步的目的是生成一个二维网格，将空间和时间域内的离散点组合成所有可能的坐标对，\n",
    "##从而用于进一步的计算或模型训练。这种方法常用于物理学、工程学和机器学习中的数值模拟和求解偏微分方程（PDEs）"
   ]
  },
  {
   "cell_type": "code",
   "execution_count": 4,
   "metadata": {},
   "outputs": [],
   "source": [
    "#注意到我们其实需要的是一个 两个输入x和t 一个输出真解u 的KAN神经网络\n",
    "layer = [1] + [3]*3 + [1]   #[input] + [nn]*hiden + [output] \n",
    "\n",
    "#oringinal KAN\n",
    "# model = KAN(width=layer, grid=3, k=3, grid_eps=1,\n",
    "#             noise_scale_base=0.25,device = device)\n",
    "\n",
    "##efficient - KAN\n",
    "model = EKAN(layer,grid_size=3,spline_order=3,scale_noise=0.1,grid_eps=1.0,base_activation=nn.Identity).to(device)"
   ]
  },
  {
   "cell_type": "code",
   "execution_count": 5,
   "metadata": {},
   "outputs": [],
   "source": [
    "def pde(coords):\n",
    "    #前置定义过程\n",
    "    coords = coords.clone().detach().requires_grad_(True)  # Ensure coords require grad\n",
    "    grads = batch_jacobian(model , coords, create_graph= True)  #计算Jacobian矩阵 batch_jacobian(fun, variable, creat_graph = True)\n",
    "    hessians = batch_hessian(model, coords)\n",
    "\n",
    "    #PDE的定义过程： \n",
    "    u = model(coords)\n",
    "    # print(x,x.shape)\n",
    "    # print(t,t.shape)\n",
    "    \n",
    "    #coords[X,T]  [:, :, :]  前两个指的的真解u 后一个指的是对应的x和t x：0  t：1\n",
    "    # u_x = grads[:,0, 0]\n",
    "    u_xx = hessians[:,0,0]  #d^2_u/dx^2\n",
    "\n",
    "    #residuals of PDE：PDE的残差\n",
    "    equation = u_xx - 2\n",
    "    pde_loss = torch.mean(equation ** 2)\n",
    "\n",
    "    # BC and IC: 找到位于边界和初始上的点下标\n",
    "    BC_mask_left = (coords[:, 0] == geom[0]) \n",
    "    BC_mask_righ = (coords[:, 0] == geom[1])\n",
    "    \n",
    "    # print(\"BC_POINT\",coords[BC_mask_righ],coords[BC_mask_righ].shape)\n",
    "    # print(\"IC_POINT\",coords[IC_mask],coords[IC_mask].shape)\n",
    "\n",
    "    ##BC:边界条件\n",
    "    model_bc_left = model(coords[BC_mask_left])  #coords[BC_mask][X:T] X:-1.0 and 1.0  T:uniform[0,1]  [200 x 2]\n",
    "    # model_bc_righ = model(coords[BC_mask_righ])\n",
    "    neumann_bc_righ = batch_jacobian(model,coords[BC_mask_righ],create_graph= True)\n",
    "    # print(neumann_bc_righ,neumann_bc_righ.shape)\n",
    "    # bc_loss = torch.mean((model_bc_left)**2) + torch.mean((model_bc_righ -4)**2)\n",
    "    bc_loss = torch.mean((model_bc_left)**2) + torch.mean((neumann_bc_righ -4)**2)   ###这里很重要，Neumann边界的定义\n",
    "\n",
    "    total_loss = pde_loss + bc_loss\n",
    "    \n",
    "    return total_loss"
   ]
  },
  {
   "cell_type": "code",
   "execution_count": 6,
   "metadata": {},
   "outputs": [
    {
     "name": "stderr",
     "output_type": "stream",
     "text": [
      "Training Progress:   0%|          | 0/5 [00:00<?, ?it/s]"
     ]
    },
    {
     "name": "stdout",
     "output_type": "stream",
     "text": [
      "tensor([[[0.1613]]], device='cuda:0', grad_fn=<PermuteBackward0>) torch.Size([1, 1, 1])\n",
      "tensor([[[0.1625]]], device='cuda:0', grad_fn=<PermuteBackward0>) torch.Size([1, 1, 1])\n",
      "tensor([[[0.1741]]], device='cuda:0', grad_fn=<PermuteBackward0>) torch.Size([1, 1, 1])\n",
      "tensor([[[0.3032]]], device='cuda:0', grad_fn=<PermuteBackward0>) torch.Size([1, 1, 1])\n",
      "tensor([[[2.6945]]], device='cuda:0', grad_fn=<PermuteBackward0>) torch.Size([1, 1, 1])\n",
      "tensor([[[2.6920]]], device='cuda:0', grad_fn=<PermuteBackward0>) torch.Size([1, 1, 1])\n",
      "tensor([[[2.6814]]], device='cuda:0', grad_fn=<PermuteBackward0>) torch.Size([1, 1, 1])\n",
      "tensor([[[2.6124]]], device='cuda:0', grad_fn=<PermuteBackward0>) torch.Size([1, 1, 1])\n",
      "tensor([[[2.6360]]], device='cuda:0', grad_fn=<PermuteBackward0>) torch.Size([1, 1, 1])\n",
      "tensor([[[2.7444]]], device='cuda:0', grad_fn=<PermuteBackward0>) torch.Size([1, 1, 1])\n",
      "tensor([[[3.7342]]], device='cuda:0', grad_fn=<PermuteBackward0>) torch.Size([1, 1, 1])\n",
      "tensor([[[3.7262]]], device='cuda:0', grad_fn=<PermuteBackward0>) torch.Size([1, 1, 1])\n",
      "tensor([[[3.6894]]], device='cuda:0', grad_fn=<PermuteBackward0>) torch.Size([1, 1, 1])\n",
      "tensor([[[3.4624]]], device='cuda:0', grad_fn=<PermuteBackward0>) torch.Size([1, 1, 1])\n",
      "tensor([[[3.4607]]], device='cuda:0', grad_fn=<PermuteBackward0>) torch.Size([1, 1, 1])\n",
      "tensor([[[3.4530]]], device='cuda:0', grad_fn=<PermuteBackward0>) torch.Size([1, 1, 1])\n",
      "tensor([[[3.3689]]], device='cuda:0', grad_fn=<PermuteBackward0>) torch.Size([1, 1, 1])\n",
      "tensor([[[3.3694]]], device='cuda:0', grad_fn=<PermuteBackward0>) torch.Size([1, 1, 1])\n",
      "tensor([[[3.3728]]], device='cuda:0', grad_fn=<PermuteBackward0>) torch.Size([1, 1, 1])\n",
      "tensor([[[3.3446]]], device='cuda:0', grad_fn=<PermuteBackward0>) torch.Size([1, 1, 1])\n",
      "tensor([[[3.3462]]], device='cuda:0', grad_fn=<PermuteBackward0>) torch.Size([1, 1, 1])\n",
      "tensor([[[3.3602]]], device='cuda:0', grad_fn=<PermuteBackward0>) torch.Size([1, 1, 1])\n",
      "tensor([[[3.4006]]], device='cuda:0', grad_fn=<PermuteBackward0>) torch.Size([1, 1, 1])\n",
      "tensor([[[3.4027]]], device='cuda:0', grad_fn=<PermuteBackward0>) torch.Size([1, 1, 1])\n",
      "tensor([[[3.4207]]], device='cuda:0', grad_fn=<PermuteBackward0>) torch.Size([1, 1, 1])\n"
     ]
    },
    {
     "name": "stderr",
     "output_type": "stream",
     "text": [
      "Step: 0 | Loss: 2.058220:  20%|██        | 1/5 [00:02<00:11,  2.78s/it]"
     ]
    },
    {
     "name": "stdout",
     "output_type": "stream",
     "text": [
      "tensor([[[3.4897]]], device='cuda:0', grad_fn=<PermuteBackward0>) torch.Size([1, 1, 1])\n",
      "tensor([[[3.4897]]], device='cuda:0', grad_fn=<PermuteBackward0>) torch.Size([1, 1, 1])\n",
      "tensor([[[3.4897]]], device='cuda:0', grad_fn=<PermuteBackward0>) torch.Size([1, 1, 1])\n",
      "tensor([[[3.4897]]], device='cuda:0', grad_fn=<PermuteBackward0>) torch.Size([1, 1, 1])\n",
      "tensor([[[3.4895]]], device='cuda:0', grad_fn=<PermuteBackward0>) torch.Size([1, 1, 1])\n",
      "tensor([[[3.4872]]], device='cuda:0', grad_fn=<PermuteBackward0>) torch.Size([1, 1, 1])\n",
      "tensor([[[3.3883]]], device='cuda:0', grad_fn=<PermuteBackward0>) torch.Size([1, 1, 1])\n",
      "tensor([[[3.3952]]], device='cuda:0', grad_fn=<PermuteBackward0>) torch.Size([1, 1, 1])\n",
      "tensor([[[3.4573]]], device='cuda:0', grad_fn=<PermuteBackward0>) torch.Size([1, 1, 1])\n",
      "tensor([[[3.4584]]], device='cuda:0', grad_fn=<PermuteBackward0>) torch.Size([1, 1, 1])\n",
      "tensor([[[3.4684]]], device='cuda:0', grad_fn=<PermuteBackward0>) torch.Size([1, 1, 1])\n",
      "tensor([[[3.5503]]], device='cuda:0', grad_fn=<PermuteBackward0>) torch.Size([1, 1, 1])\n",
      "tensor([[[3.5506]]], device='cuda:0', grad_fn=<PermuteBackward0>) torch.Size([1, 1, 1])\n",
      "tensor([[[3.5535]]], device='cuda:0', grad_fn=<PermuteBackward0>) torch.Size([1, 1, 1])\n",
      "tensor([[[3.5820]]], device='cuda:0', grad_fn=<PermuteBackward0>) torch.Size([1, 1, 1])\n",
      "tensor([[[3.5815]]], device='cuda:0', grad_fn=<PermuteBackward0>) torch.Size([1, 1, 1])\n",
      "tensor([[[3.5793]]], device='cuda:0', grad_fn=<PermuteBackward0>) torch.Size([1, 1, 1])\n",
      "tensor([[[3.5536]]], device='cuda:0', grad_fn=<PermuteBackward0>) torch.Size([1, 1, 1])\n",
      "tensor([[[3.5545]]], device='cuda:0', grad_fn=<PermuteBackward0>) torch.Size([1, 1, 1])\n",
      "tensor([[[3.5627]]], device='cuda:0', grad_fn=<PermuteBackward0>) torch.Size([1, 1, 1])\n",
      "tensor([[[3.6421]]], device='cuda:0', grad_fn=<PermuteBackward0>) torch.Size([1, 1, 1])\n",
      "tensor([[[3.6408]]], device='cuda:0', grad_fn=<PermuteBackward0>) torch.Size([1, 1, 1])\n",
      "tensor([[[3.6291]]], device='cuda:0', grad_fn=<PermuteBackward0>) torch.Size([1, 1, 1])\n",
      "tensor([[[3.6286]]], device='cuda:0', grad_fn=<PermuteBackward0>) torch.Size([1, 1, 1])\n",
      "tensor([[[3.6244]]], device='cuda:0', grad_fn=<PermuteBackward0>) torch.Size([1, 1, 1])\n",
      "tensor([[[3.5921]]], device='cuda:0', grad_fn=<PermuteBackward0>) torch.Size([1, 1, 1])\n",
      "tensor([[[3.5919]]], device='cuda:0', grad_fn=<PermuteBackward0>) torch.Size([1, 1, 1])\n",
      "tensor([[[3.5905]]], device='cuda:0', grad_fn=<PermuteBackward0>) torch.Size([1, 1, 1])\n",
      "tensor([[[3.5770]]], device='cuda:0', grad_fn=<PermuteBackward0>) torch.Size([1, 1, 1])\n",
      "tensor([[[3.5770]]], device='cuda:0', grad_fn=<PermuteBackward0>) torch.Size([1, 1, 1])\n"
     ]
    },
    {
     "name": "stderr",
     "output_type": "stream",
     "text": [
      "Step: 0 | Loss: 2.058220:  40%|████      | 2/5 [00:04<00:06,  2.24s/it]"
     ]
    },
    {
     "name": "stdout",
     "output_type": "stream",
     "text": [
      "tensor([[[3.5770]]], device='cuda:0', grad_fn=<PermuteBackward0>) torch.Size([1, 1, 1])\n",
      "tensor([[[3.5770]]], device='cuda:0', grad_fn=<PermuteBackward0>) torch.Size([1, 1, 1])\n",
      "tensor([[[3.5770]]], device='cuda:0', grad_fn=<PermuteBackward0>) torch.Size([1, 1, 1])\n",
      "tensor([[[3.5821]]], device='cuda:0', grad_fn=<PermuteBackward0>) torch.Size([1, 1, 1])\n",
      "tensor([[[3.5822]]], device='cuda:0', grad_fn=<PermuteBackward0>) torch.Size([1, 1, 1])\n",
      "tensor([[[3.5827]]], device='cuda:0', grad_fn=<PermuteBackward0>) torch.Size([1, 1, 1])\n",
      "tensor([[[3.5827]]], device='cuda:0', grad_fn=<PermuteBackward0>) torch.Size([1, 1, 1])\n",
      "tensor([[[3.5828]]], device='cuda:0', grad_fn=<PermuteBackward0>) torch.Size([1, 1, 1])\n",
      "tensor([[[3.5827]]], device='cuda:0', grad_fn=<PermuteBackward0>) torch.Size([1, 1, 1])\n",
      "tensor([[[3.5828]]], device='cuda:0', grad_fn=<PermuteBackward0>) torch.Size([1, 1, 1])\n",
      "tensor([[[3.5843]]], device='cuda:0', grad_fn=<PermuteBackward0>) torch.Size([1, 1, 1])\n",
      "tensor([[[3.5890]]], device='cuda:0', grad_fn=<PermuteBackward0>) torch.Size([1, 1, 1])\n",
      "tensor([[[3.5893]]], device='cuda:0', grad_fn=<PermuteBackward0>) torch.Size([1, 1, 1])\n",
      "tensor([[[3.5916]]], device='cuda:0', grad_fn=<PermuteBackward0>) torch.Size([1, 1, 1])\n",
      "tensor([[[3.6016]]], device='cuda:0', grad_fn=<PermuteBackward0>) torch.Size([1, 1, 1])\n",
      "tensor([[[3.6027]]], device='cuda:0', grad_fn=<PermuteBackward0>) torch.Size([1, 1, 1])\n",
      "tensor([[[3.6061]]], device='cuda:0', grad_fn=<PermuteBackward0>) torch.Size([1, 1, 1])\n",
      "tensor([[[3.6406]]], device='cuda:0', grad_fn=<PermuteBackward0>) torch.Size([1, 1, 1])\n",
      "tensor([[[3.6433]]], device='cuda:0', grad_fn=<PermuteBackward0>) torch.Size([1, 1, 1])\n",
      "tensor([[[3.6550]]], device='cuda:0', grad_fn=<PermuteBackward0>) torch.Size([1, 1, 1])\n",
      "tensor([[[3.6963]]], device='cuda:0', grad_fn=<PermuteBackward0>) torch.Size([1, 1, 1])\n",
      "tensor([[[3.6989]]], device='cuda:0', grad_fn=<PermuteBackward0>) torch.Size([1, 1, 1])\n",
      "tensor([[[3.7099]]], device='cuda:0', grad_fn=<PermuteBackward0>) torch.Size([1, 1, 1])\n",
      "tensor([[[3.7149]]], device='cuda:0', grad_fn=<PermuteBackward0>) torch.Size([1, 1, 1])\n"
     ]
    },
    {
     "name": "stderr",
     "output_type": "stream",
     "text": [
      "Step: 2 | Loss: 0.143077:  40%|████      | 2/5 [00:06<00:06,  2.24s/it]"
     ]
    },
    {
     "name": "stdout",
     "output_type": "stream",
     "text": [
      "tensor([[[3.7369]]], device='cuda:0', grad_fn=<PermuteBackward0>) torch.Size([1, 1, 1])\n",
      "tensor([[[3.8175]]], device='cuda:0', grad_fn=<PermuteBackward0>) torch.Size([1, 1, 1])\n",
      "tensor([[[3.8175]]], device='cuda:0', grad_fn=<PermuteBackward0>) torch.Size([1, 1, 1])\n",
      "tensor([[[3.8175]]], device='cuda:0', grad_fn=<PermuteBackward0>) torch.Size([1, 1, 1])\n"
     ]
    },
    {
     "name": "stderr",
     "output_type": "stream",
     "text": [
      "Step: 2 | Loss: 0.143077:  60%|██████    | 3/5 [00:06<00:04,  2.18s/it]"
     ]
    },
    {
     "name": "stdout",
     "output_type": "stream",
     "text": [
      "tensor([[[3.8175]]], device='cuda:0', grad_fn=<PermuteBackward0>) torch.Size([1, 1, 1])\n",
      "tensor([[[3.8159]]], device='cuda:0', grad_fn=<PermuteBackward0>) torch.Size([1, 1, 1])\n",
      "tensor([[[3.8066]]], device='cuda:0', grad_fn=<PermuteBackward0>) torch.Size([1, 1, 1])\n",
      "tensor([[[3.8089]]], device='cuda:0', grad_fn=<PermuteBackward0>) torch.Size([1, 1, 1])\n",
      "tensor([[[3.8291]]], device='cuda:0', grad_fn=<PermuteBackward0>) torch.Size([1, 1, 1])\n",
      "tensor([[[3.8313]]], device='cuda:0', grad_fn=<PermuteBackward0>) torch.Size([1, 1, 1])\n",
      "tensor([[[3.8508]]], device='cuda:0', grad_fn=<PermuteBackward0>) torch.Size([1, 1, 1])\n",
      "tensor([[[3.8529]]], device='cuda:0', grad_fn=<PermuteBackward0>) torch.Size([1, 1, 1])\n",
      "tensor([[[3.8722]]], device='cuda:0', grad_fn=<PermuteBackward0>) torch.Size([1, 1, 1])\n",
      "tensor([[[3.8738]]], device='cuda:0', grad_fn=<PermuteBackward0>) torch.Size([1, 1, 1])\n",
      "tensor([[[3.8885]]], device='cuda:0', grad_fn=<PermuteBackward0>) torch.Size([1, 1, 1])\n",
      "tensor([[[3.8906]]], device='cuda:0', grad_fn=<PermuteBackward0>) torch.Size([1, 1, 1])\n",
      "tensor([[[3.9097]]], device='cuda:0', grad_fn=<PermuteBackward0>) torch.Size([1, 1, 1])\n",
      "tensor([[[3.9104]]], device='cuda:0', grad_fn=<PermuteBackward0>) torch.Size([1, 1, 1])\n",
      "tensor([[[3.9134]]], device='cuda:0', grad_fn=<PermuteBackward0>) torch.Size([1, 1, 1])\n",
      "tensor([[[3.9145]]], device='cuda:0', grad_fn=<PermuteBackward0>) torch.Size([1, 1, 1])\n",
      "tensor([[[3.9248]]], device='cuda:0', grad_fn=<PermuteBackward0>) torch.Size([1, 1, 1])\n",
      "tensor([[[3.9258]]], device='cuda:0', grad_fn=<PermuteBackward0>) torch.Size([1, 1, 1])\n",
      "tensor([[[3.9345]]], device='cuda:0', grad_fn=<PermuteBackward0>) torch.Size([1, 1, 1])\n",
      "tensor([[[3.9357]]], device='cuda:0', grad_fn=<PermuteBackward0>) torch.Size([1, 1, 1])\n",
      "tensor([[[3.9410]]], device='cuda:0', grad_fn=<PermuteBackward0>) torch.Size([1, 1, 1])\n",
      "tensor([[[3.9987]]], device='cuda:0', grad_fn=<PermuteBackward0>) torch.Size([1, 1, 1])\n",
      "tensor([[[3.9987]]], device='cuda:0', grad_fn=<PermuteBackward0>) torch.Size([1, 1, 1])\n",
      "tensor([[[3.9986]]], device='cuda:0', grad_fn=<PermuteBackward0>) torch.Size([1, 1, 1])\n",
      "tensor([[[3.9988]]], device='cuda:0', grad_fn=<PermuteBackward0>) torch.Size([1, 1, 1])\n",
      "tensor([[[4.0000]]], device='cuda:0', grad_fn=<PermuteBackward0>) torch.Size([1, 1, 1])\n"
     ]
    },
    {
     "name": "stderr",
     "output_type": "stream",
     "text": [
      "Step: 2 | Loss: 0.143077:  80%|████████  | 4/5 [00:08<00:02,  2.08s/it]"
     ]
    },
    {
     "name": "stdout",
     "output_type": "stream",
     "text": [
      "tensor([[[4.0038]]], device='cuda:0', grad_fn=<PermuteBackward0>) torch.Size([1, 1, 1])\n",
      "tensor([[[4.0038]]], device='cuda:0', grad_fn=<PermuteBackward0>) torch.Size([1, 1, 1])\n",
      "tensor([[[4.0038]]], device='cuda:0', grad_fn=<PermuteBackward0>) torch.Size([1, 1, 1])\n",
      "tensor([[[4.0033]]], device='cuda:0', grad_fn=<PermuteBackward0>) torch.Size([1, 1, 1])\n",
      "tensor([[[3.9990]]], device='cuda:0', grad_fn=<PermuteBackward0>) torch.Size([1, 1, 1])\n",
      "tensor([[[3.9991]]], device='cuda:0', grad_fn=<PermuteBackward0>) torch.Size([1, 1, 1])\n",
      "tensor([[[3.9992]]], device='cuda:0', grad_fn=<PermuteBackward0>) torch.Size([1, 1, 1])\n",
      "tensor([[[3.9995]]], device='cuda:0', grad_fn=<PermuteBackward0>) torch.Size([1, 1, 1])\n",
      "tensor([[[3.9995]]], device='cuda:0', grad_fn=<PermuteBackward0>) torch.Size([1, 1, 1])\n",
      "tensor([[[3.9995]]], device='cuda:0', grad_fn=<PermuteBackward0>) torch.Size([1, 1, 1])\n",
      "tensor([[[3.9994]]], device='cuda:0', grad_fn=<PermuteBackward0>) torch.Size([1, 1, 1])\n",
      "tensor([[[3.9994]]], device='cuda:0', grad_fn=<PermuteBackward0>) torch.Size([1, 1, 1])\n",
      "tensor([[[3.9994]]], device='cuda:0', grad_fn=<PermuteBackward0>) torch.Size([1, 1, 1])\n",
      "tensor([[[3.9999]]], device='cuda:0', grad_fn=<PermuteBackward0>) torch.Size([1, 1, 1])\n",
      "tensor([[[3.9998]]], device='cuda:0', grad_fn=<PermuteBackward0>) torch.Size([1, 1, 1])\n",
      "tensor([[[3.9993]]], device='cuda:0', grad_fn=<PermuteBackward0>) torch.Size([1, 1, 1])\n",
      "tensor([[[3.9994]]], device='cuda:0', grad_fn=<PermuteBackward0>) torch.Size([1, 1, 1])\n",
      "tensor([[[4.0000]]], device='cuda:0', grad_fn=<PermuteBackward0>) torch.Size([1, 1, 1])\n",
      "tensor([[[4.0000]]], device='cuda:0', grad_fn=<PermuteBackward0>) torch.Size([1, 1, 1])\n",
      "tensor([[[3.9998]]], device='cuda:0', grad_fn=<PermuteBackward0>) torch.Size([1, 1, 1])\n",
      "tensor([[[3.9998]]], device='cuda:0', grad_fn=<PermuteBackward0>) torch.Size([1, 1, 1])\n",
      "tensor([[[4.0004]]], device='cuda:0', grad_fn=<PermuteBackward0>) torch.Size([1, 1, 1])\n",
      "tensor([[[4.0003]]], device='cuda:0', grad_fn=<PermuteBackward0>) torch.Size([1, 1, 1])\n",
      "tensor([[[4.0000]]], device='cuda:0', grad_fn=<PermuteBackward0>) torch.Size([1, 1, 1])\n",
      "tensor([[[4.0002]]], device='cuda:0', grad_fn=<PermuteBackward0>) torch.Size([1, 1, 1])\n",
      "tensor([[[4.0021]]], device='cuda:0', grad_fn=<PermuteBackward0>) torch.Size([1, 1, 1])\n"
     ]
    },
    {
     "name": "stderr",
     "output_type": "stream",
     "text": [
      "Step: 4 | Loss: 0.000707:  80%|████████  | 4/5 [00:10<00:02,  2.08s/it]"
     ]
    },
    {
     "name": "stdout",
     "output_type": "stream",
     "text": [
      "tensor([[[4.0021]]], device='cuda:0', grad_fn=<PermuteBackward0>) torch.Size([1, 1, 1])\n",
      "tensor([[[4.0020]]], device='cuda:0', grad_fn=<PermuteBackward0>) torch.Size([1, 1, 1])\n",
      "tensor([[[4.0020]]], device='cuda:0', grad_fn=<PermuteBackward0>) torch.Size([1, 1, 1])\n"
     ]
    },
    {
     "name": "stderr",
     "output_type": "stream",
     "text": [
      "Step: 4 | Loss: 0.000707: 100%|██████████| 5/5 [00:10<00:00,  2.15s/it]"
     ]
    },
    {
     "name": "stdout",
     "output_type": "stream",
     "text": [
      "tensor([[[4.0020]]], device='cuda:0', grad_fn=<PermuteBackward0>) torch.Size([1, 1, 1])\n",
      "[2.0582198658461026, 0.631409831178996, 0.14307691047616145, 0.00680726421524074, 0.000706734683882307]\n"
     ]
    },
    {
     "name": "stderr",
     "output_type": "stream",
     "text": [
      "\n"
     ]
    },
    {
     "data": {
      "text/plain": [
       "Text(0.5, 1.0, 'Loss of KAN')"
      ]
     },
     "execution_count": 6,
     "metadata": {},
     "output_type": "execute_result"
    },
    {
     "data": {
      "image/png": "[encoded data removed]",
      "text/plain": [
       "<Figure size 640x480 with 1 Axes>"
      ]
     },
     "metadata": {},
     "output_type": "display_data"
    }
   ],
   "source": [
    "Loss = []\n",
    "l2_losses = []\n",
    "writer = SummaryWriter()\n",
    "\n",
    "def train():\n",
    "    optimizer = LBFGS(model.parameters(), lr=1e-2,\n",
    "                      history_size=10, line_search_fn=\"strong_wolfe\", tolerance_grad=1e-32, tolerance_change=1e-32, tolerance_ys=1e-32)\n",
    "    # optimizer = optim.Adam(model.parameters(), lr=1e-2, betas=(0.9, 0.999), eps=1e-8, weight_decay=0, amsgrad=False)\n",
    "    \n",
    "    steps = 5# 20 steps are enough\n",
    "    pbar = tqdm(range(steps), desc='Training Progress')\n",
    "\n",
    "    for step in pbar:\n",
    "        def closure():\n",
    "            optimizer.zero_grad()\n",
    "            loss = pde(coordinates)\n",
    "            loss.backward()\n",
    "            return loss\n",
    "\n",
    "        optimizer.step(closure)\n",
    "        if step % 2 == 0:\n",
    "            current_loss = closure().item()\n",
    "            pbar.set_description(\"Step: %d | Loss: %.6f\" %\n",
    "                                 (step, current_loss))\n",
    "            writer.add_scalar('Loss/train', current_loss, step)\n",
    "        Loss.append(closure().item())\n",
    "        # l2_losses.append(l2.detach().numpy())\n",
    "        # print(\"Current Loss: \",Loss[step])\n",
    "\n",
    "train()\n",
    "writer.close()\n",
    "print(Loss)\n",
    "plt.plot(Loss, marker='o')\n",
    "plt.plot(l2_losses, marker='o')\n",
    "plt.yscale('log')\n",
    "plt.xlabel('steps')\n",
    "plt.legend(['Total loss'])\n",
    "plt.title('Loss of KAN') "
   ]
  },
  {
   "cell_type": "code",
   "execution_count": 7,
   "metadata": {},
   "outputs": [
    {
     "data": {
      "image/png": "[encoded data removed]",
      "text/plain": [
       "<Figure size 800x600 with 1 Axes>"
      ]
     },
     "metadata": {},
     "output_type": "display_data"
    }
   ],
   "source": [
    "from matplotlib import cm\n",
    "from matplotlib.ticker import FormatStrFormatter, LinearLocator\n",
    "import matplotlib.pyplot as plt\n",
    "\n",
    "x = np.linspace(-1, 1, 256)\n",
    "result = model(coordinates).cpu().data.numpy()\n",
    "# 定义真解u_true\n",
    "u_true = (x+1) ** 2\n",
    "\n",
    "plt.figure(figsize=(8, 6))\n",
    "plt.plot(x, result, label=r'$u = KAN_{\\text{outputs}}$', color='b')\n",
    "plt.plot(x, u_true, label=r'$u_{\\text{true}} = (x + 1)^2$', color='r', linestyle='--')\n",
    "plt.title('Trend of $u = (x + 1)^2$')\n",
    "plt.xlabel('x')\n",
    "plt.ylabel('u')\n",
    "plt.legend()\n",
    "plt.grid(True)\n",
    "plt.show()"
   ]
  }
 ],
 "metadata": {
  "kernelspec": {
   "display_name": "pytorch",
   "language": "python",
   "name": "python3"
  },
  "language_info": {
   "codemirror_mode": {
    "name": "ipython",
    "version": 3
   },
   "file_extension": ".py",
   "mimetype": "text/x-python",
   "name": "python",
   "nbconvert_exporter": "python",
   "pygments_lexer": "ipython3",
   "version": "3.9.7"
  }
 },
 "nbformat": 4,
 "nbformat_minor": 2
}
